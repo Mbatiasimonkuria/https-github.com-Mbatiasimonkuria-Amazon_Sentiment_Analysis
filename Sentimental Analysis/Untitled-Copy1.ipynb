{
 "cells": [
  {
   "cell_type": "code",
   "execution_count": 1,
   "id": "7f8cd6aa",
   "metadata": {},
   "outputs": [],
   "source": [
    "import tweepy\n",
    "import pandas as pd"
   ]
  },
  {
   "cell_type": "code",
   "execution_count": 2,
   "id": "9dc8b864",
   "metadata": {},
   "outputs": [],
   "source": [
    "consumer_key = \"dwkZCqu3Vu9IX9EKVYpLotKSd\"\n",
    "consumer_secret = \"FkVFSC2UEchvEwwpU5bsgzIzTh5REpyiG3jJpmXVYBhhkpH2T9\"\n",
    "access_token = \"1508092929415553028-KGZv3EB8zoBAlKzS7hbWGgteKWhbCf\"\n",
    "access_token_secret = \"3e6CUNOZRXbJr7aWPLVZUl1NxFmSlzZGT7lbssoNh5I9T\""
   ]
  },
  {
   "cell_type": "code",
   "execution_count": 3,
   "id": "581badc5",
   "metadata": {},
   "outputs": [],
   "source": [
    "auth = tweepy.OAuthHandler(consumer_key, consumer_secret)\n",
    "auth.set_access_token(access_token, access_token_secret)\n",
    "api = tweepy.API(auth, wait_on_rate_limit = True)"
   ]
  },
  {
   "cell_type": "code",
   "execution_count": null,
   "id": "e9b61b04",
   "metadata": {},
   "outputs": [],
   "source": []
  },
  {
   "cell_type": "code",
   "execution_count": null,
   "id": "3a247e60",
   "metadata": {},
   "outputs": [],
   "source": []
  }
 ],
 "metadata": {
  "kernelspec": {
   "display_name": "Python 3 (ipykernel)",
   "language": "python",
   "name": "python3"
  },
  "language_info": {
   "codemirror_mode": {
    "name": "ipython",
    "version": 3
   },
   "file_extension": ".py",
   "mimetype": "text/x-python",
   "name": "python",
   "nbconvert_exporter": "python",
   "pygments_lexer": "ipython3",
   "version": "3.9.0"
  }
 },
 "nbformat": 4,
 "nbformat_minor": 5
}
